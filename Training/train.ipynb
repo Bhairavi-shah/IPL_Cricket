{
  "nbformat": 4,
  "nbformat_minor": 0,
  "metadata": {
    "kernelspec": {
      "display_name": "Python 3",
      "language": "python",
      "name": "python3"
    },
    "language_info": {
      "codemirror_mode": {
        "name": "ipython",
        "version": 3
      },
      "file_extension": ".py",
      "mimetype": "text/x-python",
      "name": "python",
      "nbconvert_exporter": "python",
      "pygments_lexer": "ipython3",
      "version": "3.8.5"
    },
    "colab": {
      "name": "IPL_Contest3_Final.ipynb",
      "provenance": [],
      "collapsed_sections": []
    }
  },
  "cells": [
    {
      "cell_type": "code",
      "metadata": {
        "colab": {
          "base_uri": "https://localhost:8080/"
        },
        "id": "BcdpYrSllF_Z",
        "outputId": "1fae4f5e-71b3-4076-e1ba-ced161916c55"
      },
      "source": [
        "import pandas as pd\n",
        "from google.colab import drive\n",
        "import matplotlib.pyplot as plt\n",
        "\n",
        "drive.mount('/content/drive')\n",
        "\n",
        "df = pd.read_csv(\"drive/MyDrive/Competitions/all_matches.csv\")"
      ],
      "execution_count": null,
      "outputs": [
        {
          "output_type": "stream",
          "text": [
            "Drive already mounted at /content/drive; to attempt to forcibly remount, call drive.mount(\"/content/drive\", force_remount=True).\n"
          ],
          "name": "stdout"
        },
        {
          "output_type": "stream",
          "text": [
            "/usr/local/lib/python3.7/dist-packages/IPython/core/interactiveshell.py:2718: DtypeWarning: Columns (1) have mixed types.Specify dtype option on import or set low_memory=False.\n",
            "  interactivity=interactivity, compiler=compiler, result=result)\n"
          ],
          "name": "stderr"
        }
      ]
    },
    {
      "cell_type": "code",
      "metadata": {
        "scrolled": true,
        "colab": {
          "base_uri": "https://localhost:8080/",
          "height": 394
        },
        "id": "1nWI7NxclF_v",
        "outputId": "530c9895-8e68-489b-8367-598cc20f3413"
      },
      "source": [
        "display(df.head())"
      ],
      "execution_count": null,
      "outputs": [
        {
          "output_type": "display_data",
          "data": {
            "text/html": [
              "<div>\n",
              "<style scoped>\n",
              "    .dataframe tbody tr th:only-of-type {\n",
              "        vertical-align: middle;\n",
              "    }\n",
              "\n",
              "    .dataframe tbody tr th {\n",
              "        vertical-align: top;\n",
              "    }\n",
              "\n",
              "    .dataframe thead th {\n",
              "        text-align: right;\n",
              "    }\n",
              "</style>\n",
              "<table border=\"1\" class=\"dataframe\">\n",
              "  <thead>\n",
              "    <tr style=\"text-align: right;\">\n",
              "      <th></th>\n",
              "      <th>match_id</th>\n",
              "      <th>season</th>\n",
              "      <th>start_date</th>\n",
              "      <th>venue</th>\n",
              "      <th>innings</th>\n",
              "      <th>ball</th>\n",
              "      <th>batting_team</th>\n",
              "      <th>bowling_team</th>\n",
              "      <th>striker</th>\n",
              "      <th>non_striker</th>\n",
              "      <th>bowler</th>\n",
              "      <th>runs_off_bat</th>\n",
              "      <th>extras</th>\n",
              "      <th>wides</th>\n",
              "      <th>noballs</th>\n",
              "      <th>byes</th>\n",
              "      <th>legbyes</th>\n",
              "      <th>penalty</th>\n",
              "      <th>wicket_type</th>\n",
              "      <th>player_dismissed</th>\n",
              "      <th>other_wicket_type</th>\n",
              "      <th>other_player_dismissed</th>\n",
              "    </tr>\n",
              "  </thead>\n",
              "  <tbody>\n",
              "    <tr>\n",
              "      <th>0</th>\n",
              "      <td>335982</td>\n",
              "      <td>2007/08</td>\n",
              "      <td>2008-04-18</td>\n",
              "      <td>M Chinnaswamy Stadium</td>\n",
              "      <td>1</td>\n",
              "      <td>0.1</td>\n",
              "      <td>Kolkata Knight Riders</td>\n",
              "      <td>Royal Challengers Bangalore</td>\n",
              "      <td>SC Ganguly</td>\n",
              "      <td>BB McCullum</td>\n",
              "      <td>P Kumar</td>\n",
              "      <td>0</td>\n",
              "      <td>1</td>\n",
              "      <td>NaN</td>\n",
              "      <td>NaN</td>\n",
              "      <td>NaN</td>\n",
              "      <td>1.0</td>\n",
              "      <td>NaN</td>\n",
              "      <td>NaN</td>\n",
              "      <td>NaN</td>\n",
              "      <td>NaN</td>\n",
              "      <td>NaN</td>\n",
              "    </tr>\n",
              "    <tr>\n",
              "      <th>1</th>\n",
              "      <td>335982</td>\n",
              "      <td>2007/08</td>\n",
              "      <td>2008-04-18</td>\n",
              "      <td>M Chinnaswamy Stadium</td>\n",
              "      <td>1</td>\n",
              "      <td>0.2</td>\n",
              "      <td>Kolkata Knight Riders</td>\n",
              "      <td>Royal Challengers Bangalore</td>\n",
              "      <td>BB McCullum</td>\n",
              "      <td>SC Ganguly</td>\n",
              "      <td>P Kumar</td>\n",
              "      <td>0</td>\n",
              "      <td>0</td>\n",
              "      <td>NaN</td>\n",
              "      <td>NaN</td>\n",
              "      <td>NaN</td>\n",
              "      <td>NaN</td>\n",
              "      <td>NaN</td>\n",
              "      <td>NaN</td>\n",
              "      <td>NaN</td>\n",
              "      <td>NaN</td>\n",
              "      <td>NaN</td>\n",
              "    </tr>\n",
              "    <tr>\n",
              "      <th>2</th>\n",
              "      <td>335982</td>\n",
              "      <td>2007/08</td>\n",
              "      <td>2008-04-18</td>\n",
              "      <td>M Chinnaswamy Stadium</td>\n",
              "      <td>1</td>\n",
              "      <td>0.3</td>\n",
              "      <td>Kolkata Knight Riders</td>\n",
              "      <td>Royal Challengers Bangalore</td>\n",
              "      <td>BB McCullum</td>\n",
              "      <td>SC Ganguly</td>\n",
              "      <td>P Kumar</td>\n",
              "      <td>0</td>\n",
              "      <td>1</td>\n",
              "      <td>1.0</td>\n",
              "      <td>NaN</td>\n",
              "      <td>NaN</td>\n",
              "      <td>NaN</td>\n",
              "      <td>NaN</td>\n",
              "      <td>NaN</td>\n",
              "      <td>NaN</td>\n",
              "      <td>NaN</td>\n",
              "      <td>NaN</td>\n",
              "    </tr>\n",
              "    <tr>\n",
              "      <th>3</th>\n",
              "      <td>335982</td>\n",
              "      <td>2007/08</td>\n",
              "      <td>2008-04-18</td>\n",
              "      <td>M Chinnaswamy Stadium</td>\n",
              "      <td>1</td>\n",
              "      <td>0.4</td>\n",
              "      <td>Kolkata Knight Riders</td>\n",
              "      <td>Royal Challengers Bangalore</td>\n",
              "      <td>BB McCullum</td>\n",
              "      <td>SC Ganguly</td>\n",
              "      <td>P Kumar</td>\n",
              "      <td>0</td>\n",
              "      <td>0</td>\n",
              "      <td>NaN</td>\n",
              "      <td>NaN</td>\n",
              "      <td>NaN</td>\n",
              "      <td>NaN</td>\n",
              "      <td>NaN</td>\n",
              "      <td>NaN</td>\n",
              "      <td>NaN</td>\n",
              "      <td>NaN</td>\n",
              "      <td>NaN</td>\n",
              "    </tr>\n",
              "    <tr>\n",
              "      <th>4</th>\n",
              "      <td>335982</td>\n",
              "      <td>2007/08</td>\n",
              "      <td>2008-04-18</td>\n",
              "      <td>M Chinnaswamy Stadium</td>\n",
              "      <td>1</td>\n",
              "      <td>0.5</td>\n",
              "      <td>Kolkata Knight Riders</td>\n",
              "      <td>Royal Challengers Bangalore</td>\n",
              "      <td>BB McCullum</td>\n",
              "      <td>SC Ganguly</td>\n",
              "      <td>P Kumar</td>\n",
              "      <td>0</td>\n",
              "      <td>0</td>\n",
              "      <td>NaN</td>\n",
              "      <td>NaN</td>\n",
              "      <td>NaN</td>\n",
              "      <td>NaN</td>\n",
              "      <td>NaN</td>\n",
              "      <td>NaN</td>\n",
              "      <td>NaN</td>\n",
              "      <td>NaN</td>\n",
              "      <td>NaN</td>\n",
              "    </tr>\n",
              "  </tbody>\n",
              "</table>\n",
              "</div>"
            ],
            "text/plain": [
              "   match_id   season  ... other_wicket_type other_player_dismissed\n",
              "0    335982  2007/08  ...               NaN                    NaN\n",
              "1    335982  2007/08  ...               NaN                    NaN\n",
              "2    335982  2007/08  ...               NaN                    NaN\n",
              "3    335982  2007/08  ...               NaN                    NaN\n",
              "4    335982  2007/08  ...               NaN                    NaN\n",
              "\n",
              "[5 rows x 22 columns]"
            ]
          },
          "metadata": {
            "tags": []
          }
        }
      ]
    },
    {
      "cell_type": "code",
      "metadata": {
        "id": "QLu-7AmUlF_x",
        "colab": {
          "base_uri": "https://localhost:8080/"
        },
        "outputId": "c6fbeb2f-4150-4466-89dd-a5f333618dc0"
      },
      "source": [
        "print(len(df))"
      ],
      "execution_count": null,
      "outputs": [
        {
          "output_type": "stream",
          "text": [
            "194354\n"
          ],
          "name": "stdout"
        }
      ]
    },
    {
      "cell_type": "code",
      "metadata": {
        "id": "WJOlIlP5lF_1"
      },
      "source": [
        "cols = ['match_id', 'season', 'start_date', 'venue', 'innings', 'ball',\n",
        "       'batting_team', 'bowling_team', 'striker', 'non_striker', 'bowler',\n",
        "       'runs_off_bat', 'extras', 'wides', 'noballs', 'byes', 'legbyes',\n",
        "       'penalty', 'wicket_type', 'player_dismissed']"
      ],
      "execution_count": null,
      "outputs": []
    },
    {
      "cell_type": "code",
      "metadata": {
        "id": "t9Vrah0jlF_2"
      },
      "source": [
        "df = df[cols]"
      ],
      "execution_count": null,
      "outputs": []
    },
    {
      "cell_type": "code",
      "metadata": {
        "id": "TnslNzVqlF_3"
      },
      "source": [
        "df['total_runs'] = df['runs_off_bat']+df['extras']"
      ],
      "execution_count": null,
      "outputs": []
    },
    {
      "cell_type": "code",
      "metadata": {
        "id": "dw635WTSlF_3"
      },
      "source": [
        "df = df[df['ball']<6]"
      ],
      "execution_count": null,
      "outputs": []
    },
    {
      "cell_type": "code",
      "metadata": {
        "id": "dt0M9GeMlF_4"
      },
      "source": [
        "df = df[df['innings']<=2]"
      ],
      "execution_count": null,
      "outputs": []
    },
    {
      "cell_type": "code",
      "metadata": {
        "id": "BszbdIYHlF_6",
        "colab": {
          "base_uri": "https://localhost:8080/"
        },
        "outputId": "a17d607b-79ee-4982-fcfd-78677ef6a17e"
      },
      "source": [
        "df.dtypes"
      ],
      "execution_count": null,
      "outputs": [
        {
          "output_type": "execute_result",
          "data": {
            "text/plain": [
              "match_id              int64\n",
              "season               object\n",
              "start_date           object\n",
              "venue                object\n",
              "innings               int64\n",
              "ball                float64\n",
              "batting_team         object\n",
              "bowling_team         object\n",
              "striker              object\n",
              "non_striker          object\n",
              "bowler               object\n",
              "runs_off_bat          int64\n",
              "extras                int64\n",
              "wides               float64\n",
              "noballs             float64\n",
              "byes                float64\n",
              "legbyes             float64\n",
              "penalty             float64\n",
              "wicket_type          object\n",
              "player_dismissed     object\n",
              "total_runs            int64\n",
              "dtype: object"
            ]
          },
          "metadata": {
            "tags": []
          },
          "execution_count": 76
        }
      ]
    },
    {
      "cell_type": "code",
      "metadata": {
        "id": "worbxWwClF_6"
      },
      "source": [
        "aggregation_functions = {'venue': 'first', \n",
        "                         'innings': 'first', \n",
        "                         'batting_team': 'first', \n",
        "                         'bowling_team': 'first',\n",
        "                         'total_runs': 'sum', \n",
        "                         'batsmen': list,\n",
        "                         'bowler': list\n",
        "                        }\n",
        "\n",
        "df['batsmen'] = df.apply(lambda x: list([x['striker'],\n",
        "                                       x['non_striker'],]), axis=1)\n",
        "df_new = df.groupby(df['match_id']).aggregate(aggregation_functions)\n"
      ],
      "execution_count": null,
      "outputs": []
    },
    {
      "cell_type": "code",
      "metadata": {
        "id": "QP5Z2xVTlF_9",
        "colab": {
          "base_uri": "https://localhost:8080/",
          "height": 422
        },
        "outputId": "96770c0f-3d2b-4a27-8527-57b04290846c"
      },
      "source": [
        "display(df_new.head())"
      ],
      "execution_count": null,
      "outputs": [
        {
          "output_type": "display_data",
          "data": {
            "text/html": [
              "<div>\n",
              "<style scoped>\n",
              "    .dataframe tbody tr th:only-of-type {\n",
              "        vertical-align: middle;\n",
              "    }\n",
              "\n",
              "    .dataframe tbody tr th {\n",
              "        vertical-align: top;\n",
              "    }\n",
              "\n",
              "    .dataframe thead th {\n",
              "        text-align: right;\n",
              "    }\n",
              "</style>\n",
              "<table border=\"1\" class=\"dataframe\">\n",
              "  <thead>\n",
              "    <tr style=\"text-align: right;\">\n",
              "      <th></th>\n",
              "      <th>venue</th>\n",
              "      <th>innings</th>\n",
              "      <th>batting_team</th>\n",
              "      <th>bowling_team</th>\n",
              "      <th>total_runs</th>\n",
              "      <th>batsmen</th>\n",
              "      <th>bowler</th>\n",
              "    </tr>\n",
              "    <tr>\n",
              "      <th>match_id</th>\n",
              "      <th></th>\n",
              "      <th></th>\n",
              "      <th></th>\n",
              "      <th></th>\n",
              "      <th></th>\n",
              "      <th></th>\n",
              "      <th></th>\n",
              "    </tr>\n",
              "  </thead>\n",
              "  <tbody>\n",
              "    <tr>\n",
              "      <th>335982</th>\n",
              "      <td>M Chinnaswamy Stadium</td>\n",
              "      <td>1</td>\n",
              "      <td>Kolkata Knight Riders</td>\n",
              "      <td>Royal Challengers Bangalore</td>\n",
              "      <td>87</td>\n",
              "      <td>[[SC Ganguly, BB McCullum], [BB McCullum, SC G...</td>\n",
              "      <td>[P Kumar, P Kumar, P Kumar, P Kumar, P Kumar, ...</td>\n",
              "    </tr>\n",
              "    <tr>\n",
              "      <th>335983</th>\n",
              "      <td>Punjab Cricket Association Stadium, Mohali</td>\n",
              "      <td>1</td>\n",
              "      <td>Chennai Super Kings</td>\n",
              "      <td>Kings XI Punjab</td>\n",
              "      <td>116</td>\n",
              "      <td>[[PA Patel, ML Hayden], [PA Patel, ML Hayden],...</td>\n",
              "      <td>[B Lee, B Lee, B Lee, B Lee, B Lee, B Lee, S S...</td>\n",
              "    </tr>\n",
              "    <tr>\n",
              "      <th>335984</th>\n",
              "      <td>Feroz Shah Kotla</td>\n",
              "      <td>1</td>\n",
              "      <td>Rajasthan Royals</td>\n",
              "      <td>Delhi Daredevils</td>\n",
              "      <td>95</td>\n",
              "      <td>[[T Kohli, YK Pathan], [T Kohli, YK Pathan], [...</td>\n",
              "      <td>[GD McGrath, GD McGrath, GD McGrath, GD McGrat...</td>\n",
              "    </tr>\n",
              "    <tr>\n",
              "      <th>335985</th>\n",
              "      <td>Wankhede Stadium</td>\n",
              "      <td>1</td>\n",
              "      <td>Mumbai Indians</td>\n",
              "      <td>Royal Challengers Bangalore</td>\n",
              "      <td>87</td>\n",
              "      <td>[[L Ronchi, ST Jayasuriya], [L Ronchi, ST Jaya...</td>\n",
              "      <td>[P Kumar, P Kumar, P Kumar, P Kumar, P Kumar, ...</td>\n",
              "    </tr>\n",
              "    <tr>\n",
              "      <th>335986</th>\n",
              "      <td>Eden Gardens</td>\n",
              "      <td>1</td>\n",
              "      <td>Deccan Chargers</td>\n",
              "      <td>Kolkata Knight Riders</td>\n",
              "      <td>65</td>\n",
              "      <td>[[AC Gilchrist, Y Venugopal Rao], [Y Venugopal...</td>\n",
              "      <td>[AB Dinda, AB Dinda, AB Dinda, AB Dinda, AB Di...</td>\n",
              "    </tr>\n",
              "  </tbody>\n",
              "</table>\n",
              "</div>"
            ],
            "text/plain": [
              "                                               venue  ...                                             bowler\n",
              "match_id                                              ...                                                   \n",
              "335982                         M Chinnaswamy Stadium  ...  [P Kumar, P Kumar, P Kumar, P Kumar, P Kumar, ...\n",
              "335983    Punjab Cricket Association Stadium, Mohali  ...  [B Lee, B Lee, B Lee, B Lee, B Lee, B Lee, S S...\n",
              "335984                              Feroz Shah Kotla  ...  [GD McGrath, GD McGrath, GD McGrath, GD McGrat...\n",
              "335985                              Wankhede Stadium  ...  [P Kumar, P Kumar, P Kumar, P Kumar, P Kumar, ...\n",
              "335986                                  Eden Gardens  ...  [AB Dinda, AB Dinda, AB Dinda, AB Dinda, AB Di...\n",
              "\n",
              "[5 rows x 7 columns]"
            ]
          },
          "metadata": {
            "tags": []
          }
        }
      ]
    },
    {
      "cell_type": "code",
      "metadata": {
        "id": "dDoKJhc2lF_-"
      },
      "source": [
        "import itertools\n",
        "import numpy as np\n",
        "\n",
        "batsmen_all = pd.Series(np.unique([*itertools.chain.from_iterable(df_new.batsmen)]))\n",
        "bowler_all = pd.Series(np.unique([*itertools.chain.from_iterable(df_new.bowler)]))\n",
        "\n",
        "for i, row in df_new.iterrows():\n",
        "    batsmen_final_list = []\n",
        "    for l in row['batsmen']:\n",
        "        batsmen_final_list += l\n",
        "    df_new.at[i, 'batsmen'] = list(set(batsmen_final_list))   \n",
        "    df_new.at[i, 'bowler'] = list(set(row['bowler']))"
      ],
      "execution_count": null,
      "outputs": []
    },
    {
      "cell_type": "code",
      "metadata": {
        "colab": {
          "base_uri": "https://localhost:8080/"
        },
        "id": "9sPi6BC-ZCxQ",
        "outputId": "5981c3fc-af83-4556-c5df-ad6270732807"
      },
      "source": [
        "batsmen_dict = {}\n",
        "for i in range(len(batsmen_all)):\n",
        "    batsmen_dict[batsmen_all[i]] = i\n",
        "\n",
        "bowler_dict = {}\n",
        "for i in range(len(bowler_all)):\n",
        "    bowler_dict[bowler_all[i]] = i\n",
        "\n",
        "print(batsmen_dict)\n",
        "print(bowler_dict)\n"
      ],
      "execution_count": null,
      "outputs": [
        {
          "output_type": "stream",
          "text": [
            "{'A Ashish Reddy': 0, 'A Chopra': 1, 'A Flintoff': 2, 'A Mishra': 3, 'A Mukund': 4, 'A Symonds': 5, 'AA Bilakhia': 6, 'AA Jhunjhunwala': 7, 'AB Agarkar': 8, 'AB Barath': 9, 'AB McDonald': 10, 'AB de Villiers': 11, 'AC Blizzard': 12, 'AC Gilchrist': 13, 'AC Voges': 14, 'AD Hales': 15, 'AD Mascarenhas': 16, 'AD Mathews': 17, 'AD Nath': 18, 'AD Russell': 19, 'AG Paunikar': 20, 'AJ Finch': 21, 'AL Menaria': 22, 'AM Nayar': 23, 'AM Rahane': 24, 'AN Ghosh': 25, 'AP Majumdar': 26, 'AP Tare': 27, 'AR Patel': 28, 'AS Raut': 29, 'AT Rayudu': 30, 'AUK Pathan': 31, 'Anirudh Singh': 32, 'Ankit Sharma': 33, 'Azhar Mahmood': 34, 'B Chipli': 35, 'BA Stokes': 36, 'BB McCullum': 37, 'BB Samantray': 38, 'BJ Haddin': 39, 'BJ Hodge': 40, 'BMAJ Mendis': 41, 'BR Dunk': 42, 'C Madan': 43, 'C Munro': 44, 'C de Grandhomme': 45, 'CA Ingram': 46, 'CA Lynn': 47, 'CA Pujara': 48, 'CH Gayle': 49, 'CH Morris': 50, 'CJ Anderson': 51, 'CJ Ferguson': 52, 'CL White': 53, 'CM Gautam': 54, 'D Padikkal': 55, 'DA Miller': 56, 'DA Warner': 57, 'DB Das': 58, 'DB Ravi Teja': 59, 'DJ Bravo': 60, 'DJ Harris': 61, 'DJ Hooda': 62, 'DJ Hussey': 63, 'DJ Jacobs': 64, 'DJ Thornely': 65, 'DJG Sammy': 66, 'DJM Short': 67, 'DPMD Jayawardene': 68, 'DR Martyn': 69, 'DR Smith': 70, 'DS Lehmann': 71, 'DT Christian': 72, 'E Lewis': 73, 'EJG Morgan': 74, 'ER Dwivedi': 75, 'F du Plessis': 76, 'FY Fazal': 77, 'G Gambhir': 78, 'GC Smith': 79, 'GH Vihari': 80, 'GJ Bailey': 81, 'GJ Maxwell': 82, 'Gurkeerat Singh': 83, 'H Klaasen': 84, 'HH Gibbs': 85, 'HH Pandya': 86, 'HM Amla': 87, 'Harbhajan Singh': 88, 'IK Pathan': 89, 'IR Jaggi': 90, 'Ishan Kishan': 91, 'J Arunkumar': 92, 'J Botha': 93, 'JA Morkel': 94, 'JC Archer': 95, 'JC Buttler': 96, 'JD Ryder': 97, 'JEC Franklin': 98, 'JH Kallis': 99, 'JJ Roy': 100, 'JL Denly': 101, 'JM Bairstow': 102, 'JM Kemp': 103, 'JO Holder': 104, 'JP Duminy': 105, 'JP Faulkner': 106, 'JR Hopes': 107, 'JR Philippe': 108, 'K Goel': 109, 'K Gowtham': 110, 'K Rabada': 111, 'KA Pollard': 112, 'KC Sangakkara': 113, 'KD Karthik': 114, 'KH Pandya': 115, 'KK Cooper': 116, 'KK Nair': 117, 'KL Rahul': 118, 'KM Jadhav': 119, 'KP Pietersen': 120, 'KS Williamson': 121, 'KV Sharma': 122, 'Kamran Akmal': 123, 'L Ronchi': 124, 'LA Carseldine': 125, 'LA Pomersbach': 126, 'LJ Wright': 127, 'LMP Simmons': 128, 'LPC Silva': 129, 'LR Shukla': 130, 'LRPL Taylor': 131, 'LS Livingstone': 132, 'M Kaif': 133, 'M Klinger': 134, 'M Manhas': 135, 'M Rawat': 136, 'M Vijay': 137, 'M Vohra': 138, 'MA Agarwal': 139, 'MC Henriques': 140, 'MC Juneja': 141, 'MD Mishra': 142, 'MDKJ Perera': 143, 'MEK Hussey': 144, 'MJ Clarke': 145, 'MJ Guptill': 146, 'MJ Lumb': 147, 'MJ McClenaghan': 148, 'MK Lomror': 149, 'MK Pandey': 150, 'MK Tiwary': 151, 'ML Hayden': 152, 'MM Ali': 153, 'MN Samuels': 154, 'MN van Wyk': 155, 'MP Stoinis': 156, 'MR Marsh': 157, 'MS Bisla': 158, 'MS Dhoni': 159, 'MS Wade': 160, 'MV Boucher': 161, 'Mandeep Singh': 162, 'Misbah-ul-Haq': 163, 'Mohammad Ashraful': 164, 'Mohammad Hafeez': 165, 'N Jagadeesan': 166, 'N Pooran': 167, 'N Rana': 168, 'N Saini': 169, 'NA Saini': 170, 'NJ Maddinson': 171, 'NLTC Perera': 172, 'NS Naik': 173, 'NV Ojha': 174, 'Niraj Patel': 175, 'OA Shah': 176, 'P Kumar': 177, 'P Negi': 178, 'P Simran Singh': 179, 'PA Patel': 180, 'PA Reddy': 181, 'PC Valthaty': 182, 'PD Collingwood': 183, 'PJ Cummins': 184, 'PK Garg': 185, 'PP Chawla': 186, 'PP Shaw': 187, 'PR Shah': 188, 'Q de Kock': 189, 'R Ashwin': 190, 'R Bishnoi': 191, 'R Dravid': 192, 'R McLaren': 193, 'R Parag': 194, 'R Sathish': 195, 'R Tewatia': 196, 'RA Jadeja': 197, 'RA Tripathi': 198, 'RD Gaikwad': 199, 'RE Levi': 200, 'RE van der Merwe': 201, 'RG Sharma': 202, 'RJ Quiney': 203, 'RK Bhui': 204, 'RM Patidar': 205, 'RN ten Doeschate': 206, 'RR Pant': 207, 'RR Rossouw': 208, 'RR Sarwan': 209, 'RS Bopara': 210, 'RT Ponting': 211, 'RV Gomez': 212, 'RV Uthappa': 213, 'S Anirudha': 214, 'S Badrinath': 215, 'S Chanderpaul': 216, 'S Dhawan': 217, 'S Gopal': 218, 'S Rana': 219, 'S Sohal': 220, 'S Sriram': 221, 'S Vidyut': 222, 'SA Asnodkar': 223, 'SA Yadav': 224, 'SB Styris': 225, 'SC Ganguly': 226, 'SD Chitnis': 227, 'SD Lad': 228, 'SE Marsh': 229, 'SK Raina': 230, 'SM Curran': 231, 'SM Katich': 232, 'SM Pollock': 233, 'SN Khan': 234, 'SO Hetmyer': 235, 'SP Fleming': 236, 'SP Goswami': 237, 'SP Jackson': 238, 'SP Narine': 239, 'SPD Smith': 240, 'SR Tendulkar': 241, 'SR Watson': 242, 'SS Iyer': 243, 'SS Tiwary': 244, 'ST Jayasuriya': 245, 'STR Binny': 246, 'SV Samson': 247, 'SW Billings': 248, 'Sachin Baby': 249, 'Salman Butt': 250, 'Shahid Afridi': 251, 'Shakib Al Hasan': 252, 'Shoaib Malik': 253, 'Shubman Gill': 254, 'Sohail Tanvir': 255, 'Sunny Singh': 256, 'T Banton': 257, 'T Henderson': 258, 'T Kohli': 259, 'TD Paine': 260, 'TL Suman': 261, 'TM Dilshan': 262, 'TM Head': 263, 'TR Birt': 264, 'UA Birla': 265, 'UBT Chand': 266, 'UT Khawaja': 267, 'UT Yadav': 268, 'V Kohli': 269, 'V Sehwag': 270, 'V Shankar': 271, 'VH Zol': 272, 'VVS Laxman': 273, 'Vishnu Vinod': 274, 'W Jaffer': 275, 'WD Parnell': 276, 'WP Saha': 277, 'Washington Sundar': 278, 'Y Gnaneswara Rao': 279, 'Y Nagar': 280, 'Y Venugopal Rao': 281, 'YBK Jaiswal': 282, 'YK Pathan': 283, 'YV Takawale': 284, 'Yashpal Singh': 285, 'Younis Khan': 286, 'Yuvraj Singh': 287, 'Z Khan': 288}\n",
            "{'A Ashish Reddy': 0, 'A Chandila': 1, 'A Choudhary': 2, 'A Dananjaya': 3, 'A Flintoff': 4, 'A Kumble': 5, 'A Mishra': 6, 'A Mithun': 7, 'A Nehra': 8, 'A Nel': 9, 'A Nortje': 10, 'A Singh': 11, 'A Symonds': 12, 'A Uniyal': 13, 'A Zampa': 14, 'AA Chavan': 15, 'AA Jhunjhunwala': 16, 'AA Noffke': 17, 'AB Agarkar': 18, 'AB Dinda': 19, 'AB McDonald': 20, 'AC Thomas': 21, 'AC Voges': 22, 'AD Mascarenhas': 23, 'AD Mathews': 24, 'AD Russell': 25, 'AF Milne': 26, 'AG Murtaza': 27, 'AJ Finch': 28, 'AJ Tye': 29, 'AL Menaria': 30, 'AM Nayar': 31, 'AM Salvi': 32, 'AN Ahmed': 33, 'AP Dole': 34, 'AR Patel': 35, 'AS Joseph': 36, 'AS Rajpoot': 37, 'Anand Rajan': 38, 'Ankit Sharma': 39, 'Ankit Soni': 40, 'Anureet Singh': 41, 'Arshdeep Singh': 42, 'Avesh Khan': 43, 'Azhar Mahmood': 44, 'B Akhil': 45, 'B Geeves': 46, 'B Kumar': 47, 'B Laughlin': 48, 'B Lee': 49, 'B Stanlake': 50, 'BA Bhatt': 51, 'BA Stokes': 52, 'BAW Mendis': 53, 'BB Sran': 54, 'BCJ Cutting': 55, 'BE Hendricks': 56, 'BJ Hodge': 57, 'BW Hilfenhaus': 58, 'Basil Thampi': 59, 'Bipul Sharma': 60, 'C de Grandhomme': 61, 'CH Gayle': 62, 'CH Morris': 63, 'CJ Anderson': 64, 'CJ Dala': 65, 'CJ Green': 66, 'CJ Jordan': 67, 'CJ McKay': 68, 'CK Langeveldt': 69, 'CR Brathwaite': 70, 'CR Woakes': 71, 'CRD Fernando': 72, 'CV Varun': 73, 'D Wiese': 74, 'D du Preez': 75, 'DAJ Bracewell': 76, 'DE Bollinger': 77, 'DJ Bravo': 78, 'DJ Hooda': 79, 'DJ Hussey': 80, 'DJ Muthuswami': 81, 'DJ Willey': 82, 'DJG Sammy': 83, 'DL Chahar': 84, 'DL Vettori': 85, 'DNT Zoysa': 86, 'DP Nannes': 87, 'DP Vijaykumar': 88, 'DR Sams': 89, 'DR Smith': 90, 'DS Kulkarni': 91, 'DT Christian': 92, 'DW Steyn': 93, 'FH Edwards': 94, 'GB Hogg': 95, 'GC Viljoen': 96, 'GD McGrath': 97, 'GH Vihari': 98, 'GJ Maxwell': 99, 'GR Napier': 100, 'GS Sandhu': 101, 'Gagandeep Singh': 102, 'Gurkeerat Singh': 103, 'HF Gurney': 104, 'HH Pandya': 105, 'HV Patel': 106, 'Harbhajan Singh': 107, 'Harmeet Singh': 108, 'Harmeet Singh (2)': 109, 'Harpreet Brar': 110, 'I Sharma': 111, 'I Udana': 112, 'IC Pandey': 113, 'IK Pathan': 114, 'IS Sodhi': 115, 'Imran Tahir': 116, 'Iqbal Abdulla': 117, 'J Botha': 118, 'J Suchith': 119, 'J Syed Mohammad': 120, 'J Theron': 121, 'J Yadav': 122, 'JA Morkel': 123, 'JC Archer': 124, 'JD Ryder': 125, 'JD Unadkat': 126, 'JDP Oram': 127, 'JDS Neesham': 128, 'JE Taylor': 129, 'JEC Franklin': 130, 'JH Kallis': 131, 'JJ Bumrah': 132, 'JJ van der Wath': 133, 'JL Pattinson': 134, 'JO Holder': 135, 'JP Behrendorff': 136, 'JP Duminy': 137, 'JP Faulkner': 138, 'JPR Scantlebury-Searles': 139, 'JR Hazlewood': 140, 'JR Hopes': 141, 'JW Hastings': 142, 'Jaskaran Singh': 143, 'Joginder Sharma': 144, 'K Gowtham': 145, 'K Khejroliya': 146, 'K Rabada': 147, 'K Santokie': 148, 'K Upadhyay': 149, 'KA Jamieson': 150, 'KA Pollard': 151, 'KAJ Roach': 152, 'KC Cariappa': 153, 'KH Pandya': 154, 'KJ Abbott': 155, 'KK Ahmed': 156, 'KK Cooper': 157, 'KL Nagarkoti': 158, 'KM Asif': 159, 'KMA Paul': 160, 'KMDN Kulasekara': 161, 'KP Appanna': 162, 'KP Pietersen': 163, 'KS Williamson': 164, 'KV Sharma': 165, 'KW Richardson': 166, 'Kamran Khan': 167, 'Karanveer Singh': 168, 'Kartik Tyagi': 169, 'Kuldeep Yadav': 170, 'L Ablish': 171, 'L Balaji': 172, 'L Ngidi': 173, 'LA Carseldine': 174, 'LE Plunkett': 175, 'LH Ferguson': 176, 'LJ Wright': 177, 'LR Shukla': 178, 'M Ashwin': 179, 'M Jansen': 180, 'M Kartik': 181, 'M Morkel': 182, 'M Muralitharan': 183, 'M Ntini': 184, 'M Prasidh Krishna': 185, 'M Vijay': 186, 'M de Lange': 187, 'MA Starc': 188, 'MB Parmar': 189, 'MC Henriques': 190, 'MF Maharoof': 191, 'MG Johnson': 192, 'MG Neser': 193, 'MJ Henry': 194, 'MJ McClenaghan': 195, 'MJ Santner': 196, 'MM Ali': 197, 'MM Patel': 198, 'MM Sharma': 199, 'MN Samuels': 200, 'MP Stoinis': 201, 'MR Marsh': 202, 'MS Gony': 203, 'Mashrafe Mortaza': 204, 'Mohammad Asif': 205, 'Mohammad Nabi': 206, 'Mohammed Shami': 207, 'Mohammed Siraj': 208, 'Monu Kumar': 209, 'Mujeeb Ur Rahman': 210, 'Mustafizur Rahman': 211, 'N Rana': 212, 'NA Saini': 213, 'NB Singh': 214, 'ND Doshi': 215, 'NJ Rimmington': 216, 'NL McCullum': 217, 'NLTC Perera': 218, 'NM Coulter-Nile': 219, 'O Thomas': 220, 'P Amarnath': 221, 'P Awana': 222, 'P Kumar': 223, 'P Negi': 224, 'P Parameswaran': 225, 'P Sahu': 226, 'P Suyal': 227, 'PJ Cummins': 228, 'PJ Sangwan': 229, 'PM Sarvesh Kumar': 230, 'PP Chawla': 231, 'PP Ojha': 232, 'PV Tambe': 233, 'Pankaj Singh': 234, 'Parvez Rasool': 235, 'R Ashwin': 236, 'R Bhatia': 237, 'R Dhawan': 238, 'R McLaren': 239, 'R Parag': 240, 'R Rampaul': 241, 'R Sharma': 242, 'R Shukla': 243, 'R Tewatia': 244, 'R Vinay Kumar': 245, 'RA Jadeja': 246, 'RA Shaikh': 247, 'RD Chahar': 248, 'RE van der Merwe': 249, 'RG More': 250, 'RG Sharma': 251, 'RJ Harris': 252, 'RJ Peterson': 253, 'RP Singh': 254, 'RR Bhatkal': 255, 'RR Bose': 256, 'RR Powar': 257, 'RR Raje': 258, 'RW Price': 259, 'Rashid Khan': 260, 'Rasikh Salam': 261, 'Ravi Bishnoi': 262, 'S Aravind': 263, 'S Badree': 264, 'S Dhawan': 265, 'S Gopal': 266, 'S Kaul': 267, 'S Kaushik': 268, 'S Ladda': 269, 'S Lamichhane': 270, 'S Nadeem': 271, 'S Narwal': 272, 'S Randiv': 273, 'S Sandeep Warrier': 274, 'S Sreesanth': 275, 'S Tyagi': 276, 'SA Abbott': 277, 'SA Yadav': 278, 'SB Bangar': 279, 'SB Jakati': 280, 'SB Styris': 281, 'SB Wagh': 282, 'SC Ganguly': 283, 'SC Kuggeleijn': 284, 'SD Chitnis': 285, 'SE Bond': 286, 'SJ Srivastava': 287, 'SK Raina': 288, 'SK Trivedi': 289, 'SK Warne': 290, 'SL Malinga': 291, 'SM Boland': 292, 'SM Curran': 293, 'SM Harwood': 294, 'SM Pollock': 295, 'SMSM Senanayake': 296, 'SN Thakur': 297, 'SP Narine': 298, 'SR Watson': 299, 'SS Agarwal': 300, 'SS Cottrell': 301, 'SS Mundhe': 302, 'SS Sarkar': 303, 'ST Jayasuriya': 304, 'STR Binny': 305, 'SW Tait': 306, 'Sandeep Sharma': 307, 'Shahid Afridi': 308, 'Shakib Al Hasan': 309, 'Shivam Mavi': 310, 'Shoaib Ahmed': 311, 'Shoaib Akhtar': 312, 'Sohail Tanvir': 313, 'Sunny Gupta': 314, 'T Natarajan': 315, 'T Thushara': 316, 'TA Boult': 317, 'TG Southee': 318, 'TK Curran': 319, 'TL Suman': 320, 'TM Dilshan': 321, 'TP Sudhindra': 322, 'TS Mills': 323, 'TU Deshpande': 324, 'Tejas Baroka': 325, 'UT Yadav': 326, 'Umar Gul': 327, 'V Pratap Singh': 328, 'V Sehwag': 329, 'V Shankar': 330, 'VR Aaron': 331, 'VRV Singh': 332, 'VS Malik': 333, 'VS Yeligati': 334, 'VY Mahesh': 335, 'WD Parnell': 336, 'WPUJC Vaas': 337, 'Washington Sundar': 338, 'Y Nagar': 339, 'Y Prithvi Raj': 340, 'Y Venugopal Rao': 341, 'YA Abdulla': 342, 'YK Pathan': 343, 'YS Chahal': 344, 'Z Khan': 345}\n"
          ],
          "name": "stdout"
        }
      ]
    },
    {
      "cell_type": "code",
      "metadata": {
        "id": "iqYGYQWvONCn"
      },
      "source": [
        "import pickle\n",
        "\n",
        "a_file = open(\"batsmen.pkl\", \"wb\")\n",
        "pickle.dump(batsmen_dict, a_file)\n",
        "a_file.close()\n",
        "\n",
        "a_file = open(\"bowlers.pkl\", \"wb\")\n",
        "pickle.dump(bowler_dict, a_file)\n",
        "a_file.close()"
      ],
      "execution_count": null,
      "outputs": []
    },
    {
      "cell_type": "code",
      "metadata": {
        "id": "z3t_8f0ulF__"
      },
      "source": [
        "final_df = df_new"
      ],
      "execution_count": null,
      "outputs": []
    },
    {
      "cell_type": "code",
      "metadata": {
        "id": "ti10e7iAdo5h"
      },
      "source": [
        "for i, row in final_df.iterrows():\n",
        "    final_df.at[i, \"batsmen\"] = [batsmen_dict[bat] for bat in row['batsmen']]\n",
        "    final_df.at[i, \"bowler\"] = [bowler_dict[bat] for bat in row['bowler']]"
      ],
      "execution_count": null,
      "outputs": []
    },
    {
      "cell_type": "code",
      "metadata": {
        "colab": {
          "base_uri": "https://localhost:8080/",
          "height": 739
        },
        "id": "3IYgFoICiMUP",
        "outputId": "416be36f-32e0-4cca-89fb-6262f1776748"
      },
      "source": [
        "final_df"
      ],
      "execution_count": null,
      "outputs": [
        {
          "output_type": "execute_result",
          "data": {
            "text/html": [
              "<div>\n",
              "<style scoped>\n",
              "    .dataframe tbody tr th:only-of-type {\n",
              "        vertical-align: middle;\n",
              "    }\n",
              "\n",
              "    .dataframe tbody tr th {\n",
              "        vertical-align: top;\n",
              "    }\n",
              "\n",
              "    .dataframe thead th {\n",
              "        text-align: right;\n",
              "    }\n",
              "</style>\n",
              "<table border=\"1\" class=\"dataframe\">\n",
              "  <thead>\n",
              "    <tr style=\"text-align: right;\">\n",
              "      <th></th>\n",
              "      <th>venue</th>\n",
              "      <th>innings</th>\n",
              "      <th>batting_team</th>\n",
              "      <th>bowling_team</th>\n",
              "      <th>total_runs</th>\n",
              "      <th>batsmen</th>\n",
              "      <th>bowler</th>\n",
              "    </tr>\n",
              "    <tr>\n",
              "      <th>match_id</th>\n",
              "      <th></th>\n",
              "      <th></th>\n",
              "      <th></th>\n",
              "      <th></th>\n",
              "      <th></th>\n",
              "      <th></th>\n",
              "      <th></th>\n",
              "    </tr>\n",
              "  </thead>\n",
              "  <tbody>\n",
              "    <tr>\n",
              "      <th>335982</th>\n",
              "      <td>M Chinnaswamy Stadium</td>\n",
              "      <td>1</td>\n",
              "      <td>Kolkata Knight Riders</td>\n",
              "      <td>Royal Challengers Bangalore</td>\n",
              "      <td>87</td>\n",
              "      <td>[161, 211, 99, 275, 192, 269, 37, 53, 226]</td>\n",
              "      <td>[111, 19, 17, 18, 223, 345]</td>\n",
              "    </tr>\n",
              "    <tr>\n",
              "      <th>335983</th>\n",
              "      <td>Punjab Cricket Association Stadium, Mohali</td>\n",
              "      <td>1</td>\n",
              "      <td>Chennai Super Kings</td>\n",
              "      <td>Kings XI Punjab</td>\n",
              "      <td>116</td>\n",
              "      <td>[144, 180, 113, 107, 152, 109]</td>\n",
              "      <td>[203, 141, 49, 275, 127]</td>\n",
              "    </tr>\n",
              "    <tr>\n",
              "      <th>335984</th>\n",
              "      <td>Feroz Shah Kotla</td>\n",
              "      <td>1</td>\n",
              "      <td>Rajasthan Royals</td>\n",
              "      <td>Delhi Daredevils</td>\n",
              "      <td>95</td>\n",
              "      <td>[259, 283, 133, 270, 78, 217, 242]</td>\n",
              "      <td>[289, 97, 46, 198, 191, 299]</td>\n",
              "    </tr>\n",
              "    <tr>\n",
              "      <th>335985</th>\n",
              "      <td>Wankhede Stadium</td>\n",
              "      <td>1</td>\n",
              "      <td>Mumbai Indians</td>\n",
              "      <td>Royal Challengers Bangalore</td>\n",
              "      <td>87</td>\n",
              "      <td>[192, 131, 216, 213, 124, 65, 188, 245]</td>\n",
              "      <td>[295, 345, 131, 223, 91, 8]</td>\n",
              "    </tr>\n",
              "    <tr>\n",
              "      <th>335986</th>\n",
              "      <td>Eden Gardens</td>\n",
              "      <td>1</td>\n",
              "      <td>Deccan Chargers</td>\n",
              "      <td>Kolkata Knight Riders</td>\n",
              "      <td>65</td>\n",
              "      <td>[277, 211, 273, 63, 5, 37, 226, 281, 13]</td>\n",
              "      <td>[281, 111, 254, 19, 18, 337]</td>\n",
              "    </tr>\n",
              "    <tr>\n",
              "      <th>...</th>\n",
              "      <td>...</td>\n",
              "      <td>...</td>\n",
              "      <td>...</td>\n",
              "      <td>...</td>\n",
              "      <td>...</td>\n",
              "      <td>...</td>\n",
              "      <td>...</td>\n",
              "    </tr>\n",
              "    <tr>\n",
              "      <th>1237180</th>\n",
              "      <td>Sheikh Zayed Stadium</td>\n",
              "      <td>1</td>\n",
              "      <td>Delhi Capitals</td>\n",
              "      <td>Sunrisers Hyderabad</td>\n",
              "      <td>114</td>\n",
              "      <td>[104, 57, 185, 156, 150, 121, 217]</td>\n",
              "      <td>[147, 271, 307, 10, 236, 135, 201]</td>\n",
              "    </tr>\n",
              "    <tr>\n",
              "      <th>1237181</th>\n",
              "      <td>Dubai International Cricket Stadium</td>\n",
              "      <td>1</td>\n",
              "      <td>Delhi Capitals</td>\n",
              "      <td>Mumbai Indians</td>\n",
              "      <td>102</td>\n",
              "      <td>[24, 243, 207, 202, 189, 224, 156, 217]</td>\n",
              "      <td>[147, 10, 236, 132, 219, 122, 201, 317, 35]</td>\n",
              "    </tr>\n",
              "    <tr>\n",
              "      <th>1254058</th>\n",
              "      <td>MA Chidambaram Stadium, Chepauk, Chennai</td>\n",
              "      <td>1</td>\n",
              "      <td>Mumbai Indians</td>\n",
              "      <td>Royal Challengers Bangalore</td>\n",
              "      <td>87</td>\n",
              "      <td>[47, 205, 202, 269, 278, 82, 224]</td>\n",
              "      <td>[154, 208, 150, 344, 132, 180, 317]</td>\n",
              "    </tr>\n",
              "    <tr>\n",
              "      <th>1254059</th>\n",
              "      <td>Wankhede Stadium, Mumbai</td>\n",
              "      <td>1</td>\n",
              "      <td>Chennai Super Kings</td>\n",
              "      <td>Delhi Capitals</td>\n",
              "      <td>98</td>\n",
              "      <td>[187, 153, 199, 76, 230, 217]</td>\n",
              "      <td>[319, 84, 43, 71, 236, 293, 297]</td>\n",
              "    </tr>\n",
              "    <tr>\n",
              "      <th>1254060</th>\n",
              "      <td>MA Chidambaram Stadium, Chepauk, Chennai</td>\n",
              "      <td>1</td>\n",
              "      <td>Kolkata Knight Riders</td>\n",
              "      <td>Sunrisers Hyderabad</td>\n",
              "      <td>85</td>\n",
              "      <td>[277, 168, 102, 254, 57, 150]</td>\n",
              "      <td>[185, 107, 307, 315, 206, 309, 228, 47]</td>\n",
              "    </tr>\n",
              "  </tbody>\n",
              "</table>\n",
              "<p>819 rows × 7 columns</p>\n",
              "</div>"
            ],
            "text/plain": [
              "                                               venue  ...                                       bowler\n",
              "match_id                                              ...                                             \n",
              "335982                         M Chinnaswamy Stadium  ...                  [111, 19, 17, 18, 223, 345]\n",
              "335983    Punjab Cricket Association Stadium, Mohali  ...                     [203, 141, 49, 275, 127]\n",
              "335984                              Feroz Shah Kotla  ...                 [289, 97, 46, 198, 191, 299]\n",
              "335985                              Wankhede Stadium  ...                  [295, 345, 131, 223, 91, 8]\n",
              "335986                                  Eden Gardens  ...                 [281, 111, 254, 19, 18, 337]\n",
              "...                                              ...  ...                                          ...\n",
              "1237180                         Sheikh Zayed Stadium  ...           [147, 271, 307, 10, 236, 135, 201]\n",
              "1237181          Dubai International Cricket Stadium  ...  [147, 10, 236, 132, 219, 122, 201, 317, 35]\n",
              "1254058     MA Chidambaram Stadium, Chepauk, Chennai  ...          [154, 208, 150, 344, 132, 180, 317]\n",
              "1254059                     Wankhede Stadium, Mumbai  ...             [319, 84, 43, 71, 236, 293, 297]\n",
              "1254060     MA Chidambaram Stadium, Chepauk, Chennai  ...      [185, 107, 307, 315, 206, 309, 228, 47]\n",
              "\n",
              "[819 rows x 7 columns]"
            ]
          },
          "metadata": {
            "tags": []
          },
          "execution_count": 84
        }
      ]
    },
    {
      "cell_type": "code",
      "metadata": {
        "colab": {
          "base_uri": "https://localhost:8080/",
          "height": 371
        },
        "id": "OITCAe8TWzbT",
        "outputId": "ac603cad-62d6-4d59-d425-3e8b0a210e74"
      },
      "source": [
        "final_df.head()"
      ],
      "execution_count": null,
      "outputs": [
        {
          "output_type": "execute_result",
          "data": {
            "text/html": [
              "<div>\n",
              "<style scoped>\n",
              "    .dataframe tbody tr th:only-of-type {\n",
              "        vertical-align: middle;\n",
              "    }\n",
              "\n",
              "    .dataframe tbody tr th {\n",
              "        vertical-align: top;\n",
              "    }\n",
              "\n",
              "    .dataframe thead th {\n",
              "        text-align: right;\n",
              "    }\n",
              "</style>\n",
              "<table border=\"1\" class=\"dataframe\">\n",
              "  <thead>\n",
              "    <tr style=\"text-align: right;\">\n",
              "      <th></th>\n",
              "      <th>venue</th>\n",
              "      <th>innings</th>\n",
              "      <th>batting_team</th>\n",
              "      <th>bowling_team</th>\n",
              "      <th>total_runs</th>\n",
              "      <th>batsmen</th>\n",
              "      <th>bowler</th>\n",
              "    </tr>\n",
              "    <tr>\n",
              "      <th>match_id</th>\n",
              "      <th></th>\n",
              "      <th></th>\n",
              "      <th></th>\n",
              "      <th></th>\n",
              "      <th></th>\n",
              "      <th></th>\n",
              "      <th></th>\n",
              "    </tr>\n",
              "  </thead>\n",
              "  <tbody>\n",
              "    <tr>\n",
              "      <th>335982</th>\n",
              "      <td>M Chinnaswamy Stadium</td>\n",
              "      <td>1</td>\n",
              "      <td>Kolkata Knight Riders</td>\n",
              "      <td>Royal Challengers Bangalore</td>\n",
              "      <td>87</td>\n",
              "      <td>[161, 211, 99, 275, 192, 269, 37, 53, 226]</td>\n",
              "      <td>[111, 19, 17, 18, 223, 345]</td>\n",
              "    </tr>\n",
              "    <tr>\n",
              "      <th>335983</th>\n",
              "      <td>Punjab Cricket Association Stadium, Mohali</td>\n",
              "      <td>1</td>\n",
              "      <td>Chennai Super Kings</td>\n",
              "      <td>Kings XI Punjab</td>\n",
              "      <td>116</td>\n",
              "      <td>[144, 180, 113, 107, 152, 109]</td>\n",
              "      <td>[203, 141, 49, 275, 127]</td>\n",
              "    </tr>\n",
              "    <tr>\n",
              "      <th>335984</th>\n",
              "      <td>Feroz Shah Kotla</td>\n",
              "      <td>1</td>\n",
              "      <td>Rajasthan Royals</td>\n",
              "      <td>Delhi Daredevils</td>\n",
              "      <td>95</td>\n",
              "      <td>[259, 283, 133, 270, 78, 217, 242]</td>\n",
              "      <td>[289, 97, 46, 198, 191, 299]</td>\n",
              "    </tr>\n",
              "    <tr>\n",
              "      <th>335985</th>\n",
              "      <td>Wankhede Stadium</td>\n",
              "      <td>1</td>\n",
              "      <td>Mumbai Indians</td>\n",
              "      <td>Royal Challengers Bangalore</td>\n",
              "      <td>87</td>\n",
              "      <td>[192, 131, 216, 213, 124, 65, 188, 245]</td>\n",
              "      <td>[295, 345, 131, 223, 91, 8]</td>\n",
              "    </tr>\n",
              "    <tr>\n",
              "      <th>335986</th>\n",
              "      <td>Eden Gardens</td>\n",
              "      <td>1</td>\n",
              "      <td>Deccan Chargers</td>\n",
              "      <td>Kolkata Knight Riders</td>\n",
              "      <td>65</td>\n",
              "      <td>[277, 211, 273, 63, 5, 37, 226, 281, 13]</td>\n",
              "      <td>[281, 111, 254, 19, 18, 337]</td>\n",
              "    </tr>\n",
              "  </tbody>\n",
              "</table>\n",
              "</div>"
            ],
            "text/plain": [
              "                                               venue  ...                        bowler\n",
              "match_id                                              ...                              \n",
              "335982                         M Chinnaswamy Stadium  ...   [111, 19, 17, 18, 223, 345]\n",
              "335983    Punjab Cricket Association Stadium, Mohali  ...      [203, 141, 49, 275, 127]\n",
              "335984                              Feroz Shah Kotla  ...  [289, 97, 46, 198, 191, 299]\n",
              "335985                              Wankhede Stadium  ...   [295, 345, 131, 223, 91, 8]\n",
              "335986                                  Eden Gardens  ...  [281, 111, 254, 19, 18, 337]\n",
              "\n",
              "[5 rows x 7 columns]"
            ]
          },
          "metadata": {
            "tags": []
          },
          "execution_count": 85
        }
      ]
    },
    {
      "cell_type": "code",
      "metadata": {
        "colab": {
          "base_uri": "https://localhost:8080/",
          "height": 394
        },
        "id": "ETMzaen0gPGk",
        "outputId": "2f6753d6-d644-4490-dcdd-df762720cb0a"
      },
      "source": [
        "final_df = pd.concat([final_df.reset_index(), pd.DataFrame(final_df.batsmen.values.tolist()).add_prefix('batsmen_')],axis=1)\n",
        "final_df = pd.concat([final_df.reset_index(), pd.DataFrame(final_df.bowler.values.tolist()).add_prefix('bowlers_')],axis=1)\n",
        "final_df = final_df.drop('batsmen', axis = 1)\n",
        "final_df = final_df.drop('bowler', axis = 1)\n",
        "display(final_df.head())\n"
      ],
      "execution_count": null,
      "outputs": [
        {
          "output_type": "display_data",
          "data": {
            "text/html": [
              "<div>\n",
              "<style scoped>\n",
              "    .dataframe tbody tr th:only-of-type {\n",
              "        vertical-align: middle;\n",
              "    }\n",
              "\n",
              "    .dataframe tbody tr th {\n",
              "        vertical-align: top;\n",
              "    }\n",
              "\n",
              "    .dataframe thead th {\n",
              "        text-align: right;\n",
              "    }\n",
              "</style>\n",
              "<table border=\"1\" class=\"dataframe\">\n",
              "  <thead>\n",
              "    <tr style=\"text-align: right;\">\n",
              "      <th></th>\n",
              "      <th>index</th>\n",
              "      <th>match_id</th>\n",
              "      <th>venue</th>\n",
              "      <th>innings</th>\n",
              "      <th>batting_team</th>\n",
              "      <th>bowling_team</th>\n",
              "      <th>total_runs</th>\n",
              "      <th>batsmen_0</th>\n",
              "      <th>batsmen_1</th>\n",
              "      <th>batsmen_2</th>\n",
              "      <th>batsmen_3</th>\n",
              "      <th>batsmen_4</th>\n",
              "      <th>batsmen_5</th>\n",
              "      <th>batsmen_6</th>\n",
              "      <th>batsmen_7</th>\n",
              "      <th>batsmen_8</th>\n",
              "      <th>batsmen_9</th>\n",
              "      <th>batsmen_10</th>\n",
              "      <th>batsmen_11</th>\n",
              "      <th>batsmen_12</th>\n",
              "      <th>bowlers_0</th>\n",
              "      <th>bowlers_1</th>\n",
              "      <th>bowlers_2</th>\n",
              "      <th>bowlers_3</th>\n",
              "      <th>bowlers_4</th>\n",
              "      <th>bowlers_5</th>\n",
              "      <th>bowlers_6</th>\n",
              "      <th>bowlers_7</th>\n",
              "      <th>bowlers_8</th>\n",
              "      <th>bowlers_9</th>\n",
              "    </tr>\n",
              "  </thead>\n",
              "  <tbody>\n",
              "    <tr>\n",
              "      <th>0</th>\n",
              "      <td>0</td>\n",
              "      <td>335982</td>\n",
              "      <td>M Chinnaswamy Stadium</td>\n",
              "      <td>1</td>\n",
              "      <td>Kolkata Knight Riders</td>\n",
              "      <td>Royal Challengers Bangalore</td>\n",
              "      <td>87</td>\n",
              "      <td>161</td>\n",
              "      <td>211</td>\n",
              "      <td>99</td>\n",
              "      <td>275</td>\n",
              "      <td>192.0</td>\n",
              "      <td>269.0</td>\n",
              "      <td>37.0</td>\n",
              "      <td>53.0</td>\n",
              "      <td>226.0</td>\n",
              "      <td>NaN</td>\n",
              "      <td>NaN</td>\n",
              "      <td>NaN</td>\n",
              "      <td>NaN</td>\n",
              "      <td>111</td>\n",
              "      <td>19</td>\n",
              "      <td>17</td>\n",
              "      <td>18.0</td>\n",
              "      <td>223.0</td>\n",
              "      <td>345.0</td>\n",
              "      <td>NaN</td>\n",
              "      <td>NaN</td>\n",
              "      <td>NaN</td>\n",
              "      <td>NaN</td>\n",
              "    </tr>\n",
              "    <tr>\n",
              "      <th>1</th>\n",
              "      <td>1</td>\n",
              "      <td>335983</td>\n",
              "      <td>Punjab Cricket Association Stadium, Mohali</td>\n",
              "      <td>1</td>\n",
              "      <td>Chennai Super Kings</td>\n",
              "      <td>Kings XI Punjab</td>\n",
              "      <td>116</td>\n",
              "      <td>144</td>\n",
              "      <td>180</td>\n",
              "      <td>113</td>\n",
              "      <td>107</td>\n",
              "      <td>152.0</td>\n",
              "      <td>109.0</td>\n",
              "      <td>NaN</td>\n",
              "      <td>NaN</td>\n",
              "      <td>NaN</td>\n",
              "      <td>NaN</td>\n",
              "      <td>NaN</td>\n",
              "      <td>NaN</td>\n",
              "      <td>NaN</td>\n",
              "      <td>203</td>\n",
              "      <td>141</td>\n",
              "      <td>49</td>\n",
              "      <td>275.0</td>\n",
              "      <td>127.0</td>\n",
              "      <td>NaN</td>\n",
              "      <td>NaN</td>\n",
              "      <td>NaN</td>\n",
              "      <td>NaN</td>\n",
              "      <td>NaN</td>\n",
              "    </tr>\n",
              "    <tr>\n",
              "      <th>2</th>\n",
              "      <td>2</td>\n",
              "      <td>335984</td>\n",
              "      <td>Feroz Shah Kotla</td>\n",
              "      <td>1</td>\n",
              "      <td>Rajasthan Royals</td>\n",
              "      <td>Delhi Daredevils</td>\n",
              "      <td>95</td>\n",
              "      <td>259</td>\n",
              "      <td>283</td>\n",
              "      <td>133</td>\n",
              "      <td>270</td>\n",
              "      <td>78.0</td>\n",
              "      <td>217.0</td>\n",
              "      <td>242.0</td>\n",
              "      <td>NaN</td>\n",
              "      <td>NaN</td>\n",
              "      <td>NaN</td>\n",
              "      <td>NaN</td>\n",
              "      <td>NaN</td>\n",
              "      <td>NaN</td>\n",
              "      <td>289</td>\n",
              "      <td>97</td>\n",
              "      <td>46</td>\n",
              "      <td>198.0</td>\n",
              "      <td>191.0</td>\n",
              "      <td>299.0</td>\n",
              "      <td>NaN</td>\n",
              "      <td>NaN</td>\n",
              "      <td>NaN</td>\n",
              "      <td>NaN</td>\n",
              "    </tr>\n",
              "    <tr>\n",
              "      <th>3</th>\n",
              "      <td>3</td>\n",
              "      <td>335985</td>\n",
              "      <td>Wankhede Stadium</td>\n",
              "      <td>1</td>\n",
              "      <td>Mumbai Indians</td>\n",
              "      <td>Royal Challengers Bangalore</td>\n",
              "      <td>87</td>\n",
              "      <td>192</td>\n",
              "      <td>131</td>\n",
              "      <td>216</td>\n",
              "      <td>213</td>\n",
              "      <td>124.0</td>\n",
              "      <td>65.0</td>\n",
              "      <td>188.0</td>\n",
              "      <td>245.0</td>\n",
              "      <td>NaN</td>\n",
              "      <td>NaN</td>\n",
              "      <td>NaN</td>\n",
              "      <td>NaN</td>\n",
              "      <td>NaN</td>\n",
              "      <td>295</td>\n",
              "      <td>345</td>\n",
              "      <td>131</td>\n",
              "      <td>223.0</td>\n",
              "      <td>91.0</td>\n",
              "      <td>8.0</td>\n",
              "      <td>NaN</td>\n",
              "      <td>NaN</td>\n",
              "      <td>NaN</td>\n",
              "      <td>NaN</td>\n",
              "    </tr>\n",
              "    <tr>\n",
              "      <th>4</th>\n",
              "      <td>4</td>\n",
              "      <td>335986</td>\n",
              "      <td>Eden Gardens</td>\n",
              "      <td>1</td>\n",
              "      <td>Deccan Chargers</td>\n",
              "      <td>Kolkata Knight Riders</td>\n",
              "      <td>65</td>\n",
              "      <td>277</td>\n",
              "      <td>211</td>\n",
              "      <td>273</td>\n",
              "      <td>63</td>\n",
              "      <td>5.0</td>\n",
              "      <td>37.0</td>\n",
              "      <td>226.0</td>\n",
              "      <td>281.0</td>\n",
              "      <td>13.0</td>\n",
              "      <td>NaN</td>\n",
              "      <td>NaN</td>\n",
              "      <td>NaN</td>\n",
              "      <td>NaN</td>\n",
              "      <td>281</td>\n",
              "      <td>111</td>\n",
              "      <td>254</td>\n",
              "      <td>19.0</td>\n",
              "      <td>18.0</td>\n",
              "      <td>337.0</td>\n",
              "      <td>NaN</td>\n",
              "      <td>NaN</td>\n",
              "      <td>NaN</td>\n",
              "      <td>NaN</td>\n",
              "    </tr>\n",
              "  </tbody>\n",
              "</table>\n",
              "</div>"
            ],
            "text/plain": [
              "   index  match_id  ... bowlers_8  bowlers_9\n",
              "0      0    335982  ...       NaN        NaN\n",
              "1      1    335983  ...       NaN        NaN\n",
              "2      2    335984  ...       NaN        NaN\n",
              "3      3    335985  ...       NaN        NaN\n",
              "4      4    335986  ...       NaN        NaN\n",
              "\n",
              "[5 rows x 30 columns]"
            ]
          },
          "metadata": {
            "tags": []
          }
        }
      ]
    },
    {
      "cell_type": "code",
      "metadata": {
        "id": "a4lFNGaYlGAC"
      },
      "source": [
        "final_df = pd.DataFrame(final_df)\n"
      ],
      "execution_count": null,
      "outputs": []
    },
    {
      "cell_type": "code",
      "metadata": {
        "id": "LHsKX5DplGAE"
      },
      "source": [
        "from sklearn.preprocessing import LabelEncoder\n",
        "\n",
        "venue_encoder = LabelEncoder()\n",
        "team_encoder = LabelEncoder()\n",
        "\n",
        "final_df['venue'] = venue_encoder.fit_transform(final_df['venue'])\n",
        "final_df['batting_team'] = team_encoder.fit_transform(final_df['batting_team'])\n",
        "final_df['bowling_team'] = team_encoder.fit_transform(final_df['bowling_team'])\n"
      ],
      "execution_count": null,
      "outputs": []
    },
    {
      "cell_type": "code",
      "metadata": {
        "id": "fFAlCW3jUGzd"
      },
      "source": [
        "import numpy as np\n",
        "\n",
        "np.save('venue_encoder.npy', venue_encoder.classes_)\n",
        "np.save('team_encoder.npy', team_encoder.classes_)\n"
      ],
      "execution_count": null,
      "outputs": []
    },
    {
      "cell_type": "code",
      "metadata": {
        "id": "JnQAsvWElGAF",
        "colab": {
          "base_uri": "https://localhost:8080/",
          "height": 224
        },
        "outputId": "b40af30d-974a-4a34-886b-204e48b6b98e"
      },
      "source": [
        "final_df.head()"
      ],
      "execution_count": null,
      "outputs": [
        {
          "output_type": "execute_result",
          "data": {
            "text/html": [
              "<div>\n",
              "<style scoped>\n",
              "    .dataframe tbody tr th:only-of-type {\n",
              "        vertical-align: middle;\n",
              "    }\n",
              "\n",
              "    .dataframe tbody tr th {\n",
              "        vertical-align: top;\n",
              "    }\n",
              "\n",
              "    .dataframe thead th {\n",
              "        text-align: right;\n",
              "    }\n",
              "</style>\n",
              "<table border=\"1\" class=\"dataframe\">\n",
              "  <thead>\n",
              "    <tr style=\"text-align: right;\">\n",
              "      <th></th>\n",
              "      <th>index</th>\n",
              "      <th>match_id</th>\n",
              "      <th>venue</th>\n",
              "      <th>innings</th>\n",
              "      <th>batting_team</th>\n",
              "      <th>bowling_team</th>\n",
              "      <th>total_runs</th>\n",
              "      <th>batsmen_0</th>\n",
              "      <th>batsmen_1</th>\n",
              "      <th>batsmen_2</th>\n",
              "      <th>batsmen_3</th>\n",
              "      <th>batsmen_4</th>\n",
              "      <th>batsmen_5</th>\n",
              "      <th>batsmen_6</th>\n",
              "      <th>batsmen_7</th>\n",
              "      <th>batsmen_8</th>\n",
              "      <th>batsmen_9</th>\n",
              "      <th>batsmen_10</th>\n",
              "      <th>batsmen_11</th>\n",
              "      <th>batsmen_12</th>\n",
              "      <th>bowlers_0</th>\n",
              "      <th>bowlers_1</th>\n",
              "      <th>bowlers_2</th>\n",
              "      <th>bowlers_3</th>\n",
              "      <th>bowlers_4</th>\n",
              "      <th>bowlers_5</th>\n",
              "      <th>bowlers_6</th>\n",
              "      <th>bowlers_7</th>\n",
              "      <th>bowlers_8</th>\n",
              "      <th>bowlers_9</th>\n",
              "    </tr>\n",
              "  </thead>\n",
              "  <tbody>\n",
              "    <tr>\n",
              "      <th>0</th>\n",
              "      <td>0</td>\n",
              "      <td>335982</td>\n",
              "      <td>15</td>\n",
              "      <td>1</td>\n",
              "      <td>7</td>\n",
              "      <td>13</td>\n",
              "      <td>87</td>\n",
              "      <td>161</td>\n",
              "      <td>211</td>\n",
              "      <td>99</td>\n",
              "      <td>275</td>\n",
              "      <td>192.0</td>\n",
              "      <td>269.0</td>\n",
              "      <td>37.0</td>\n",
              "      <td>53.0</td>\n",
              "      <td>226.0</td>\n",
              "      <td>NaN</td>\n",
              "      <td>NaN</td>\n",
              "      <td>NaN</td>\n",
              "      <td>NaN</td>\n",
              "      <td>111</td>\n",
              "      <td>19</td>\n",
              "      <td>17</td>\n",
              "      <td>18.0</td>\n",
              "      <td>223.0</td>\n",
              "      <td>345.0</td>\n",
              "      <td>NaN</td>\n",
              "      <td>NaN</td>\n",
              "      <td>NaN</td>\n",
              "      <td>NaN</td>\n",
              "    </tr>\n",
              "    <tr>\n",
              "      <th>1</th>\n",
              "      <td>1</td>\n",
              "      <td>335983</td>\n",
              "      <td>27</td>\n",
              "      <td>1</td>\n",
              "      <td>0</td>\n",
              "      <td>5</td>\n",
              "      <td>116</td>\n",
              "      <td>144</td>\n",
              "      <td>180</td>\n",
              "      <td>113</td>\n",
              "      <td>107</td>\n",
              "      <td>152.0</td>\n",
              "      <td>109.0</td>\n",
              "      <td>NaN</td>\n",
              "      <td>NaN</td>\n",
              "      <td>NaN</td>\n",
              "      <td>NaN</td>\n",
              "      <td>NaN</td>\n",
              "      <td>NaN</td>\n",
              "      <td>NaN</td>\n",
              "      <td>203</td>\n",
              "      <td>141</td>\n",
              "      <td>49</td>\n",
              "      <td>275.0</td>\n",
              "      <td>127.0</td>\n",
              "      <td>NaN</td>\n",
              "      <td>NaN</td>\n",
              "      <td>NaN</td>\n",
              "      <td>NaN</td>\n",
              "      <td>NaN</td>\n",
              "    </tr>\n",
              "    <tr>\n",
              "      <th>2</th>\n",
              "      <td>2</td>\n",
              "      <td>335984</td>\n",
              "      <td>9</td>\n",
              "      <td>1</td>\n",
              "      <td>10</td>\n",
              "      <td>3</td>\n",
              "      <td>95</td>\n",
              "      <td>259</td>\n",
              "      <td>283</td>\n",
              "      <td>133</td>\n",
              "      <td>270</td>\n",
              "      <td>78.0</td>\n",
              "      <td>217.0</td>\n",
              "      <td>242.0</td>\n",
              "      <td>NaN</td>\n",
              "      <td>NaN</td>\n",
              "      <td>NaN</td>\n",
              "      <td>NaN</td>\n",
              "      <td>NaN</td>\n",
              "      <td>NaN</td>\n",
              "      <td>289</td>\n",
              "      <td>97</td>\n",
              "      <td>46</td>\n",
              "      <td>198.0</td>\n",
              "      <td>191.0</td>\n",
              "      <td>299.0</td>\n",
              "      <td>NaN</td>\n",
              "      <td>NaN</td>\n",
              "      <td>NaN</td>\n",
              "      <td>NaN</td>\n",
              "    </tr>\n",
              "    <tr>\n",
              "      <th>3</th>\n",
              "      <td>3</td>\n",
              "      <td>335985</td>\n",
              "      <td>40</td>\n",
              "      <td>1</td>\n",
              "      <td>8</td>\n",
              "      <td>13</td>\n",
              "      <td>87</td>\n",
              "      <td>192</td>\n",
              "      <td>131</td>\n",
              "      <td>216</td>\n",
              "      <td>213</td>\n",
              "      <td>124.0</td>\n",
              "      <td>65.0</td>\n",
              "      <td>188.0</td>\n",
              "      <td>245.0</td>\n",
              "      <td>NaN</td>\n",
              "      <td>NaN</td>\n",
              "      <td>NaN</td>\n",
              "      <td>NaN</td>\n",
              "      <td>NaN</td>\n",
              "      <td>295</td>\n",
              "      <td>345</td>\n",
              "      <td>131</td>\n",
              "      <td>223.0</td>\n",
              "      <td>91.0</td>\n",
              "      <td>8.0</td>\n",
              "      <td>NaN</td>\n",
              "      <td>NaN</td>\n",
              "      <td>NaN</td>\n",
              "      <td>NaN</td>\n",
              "    </tr>\n",
              "    <tr>\n",
              "      <th>4</th>\n",
              "      <td>4</td>\n",
              "      <td>335986</td>\n",
              "      <td>8</td>\n",
              "      <td>1</td>\n",
              "      <td>1</td>\n",
              "      <td>7</td>\n",
              "      <td>65</td>\n",
              "      <td>277</td>\n",
              "      <td>211</td>\n",
              "      <td>273</td>\n",
              "      <td>63</td>\n",
              "      <td>5.0</td>\n",
              "      <td>37.0</td>\n",
              "      <td>226.0</td>\n",
              "      <td>281.0</td>\n",
              "      <td>13.0</td>\n",
              "      <td>NaN</td>\n",
              "      <td>NaN</td>\n",
              "      <td>NaN</td>\n",
              "      <td>NaN</td>\n",
              "      <td>281</td>\n",
              "      <td>111</td>\n",
              "      <td>254</td>\n",
              "      <td>19.0</td>\n",
              "      <td>18.0</td>\n",
              "      <td>337.0</td>\n",
              "      <td>NaN</td>\n",
              "      <td>NaN</td>\n",
              "      <td>NaN</td>\n",
              "      <td>NaN</td>\n",
              "    </tr>\n",
              "  </tbody>\n",
              "</table>\n",
              "</div>"
            ],
            "text/plain": [
              "   index  match_id  venue  innings  ...  bowlers_6  bowlers_7  bowlers_8  bowlers_9\n",
              "0      0    335982     15        1  ...        NaN        NaN        NaN        NaN\n",
              "1      1    335983     27        1  ...        NaN        NaN        NaN        NaN\n",
              "2      2    335984      9        1  ...        NaN        NaN        NaN        NaN\n",
              "3      3    335985     40        1  ...        NaN        NaN        NaN        NaN\n",
              "4      4    335986      8        1  ...        NaN        NaN        NaN        NaN\n",
              "\n",
              "[5 rows x 30 columns]"
            ]
          },
          "metadata": {
            "tags": []
          },
          "execution_count": 91
        }
      ]
    },
    {
      "cell_type": "code",
      "metadata": {
        "id": "PDYsal1WlGAF"
      },
      "source": [
        "final_df = final_df.drop('match_id', axis = 1)\n",
        "final_df = final_df.drop('index', axis = 1)\n",
        "final_df = final_df.fillna(0)"
      ],
      "execution_count": null,
      "outputs": []
    },
    {
      "cell_type": "code",
      "metadata": {
        "id": "YBi7Y6NulGAG"
      },
      "source": [
        "train_x = final_df\n",
        "train_x = pd.DataFrame(train_x.drop('total_runs', axis=1))\n",
        "train_y = pd.Series(final_df['total_runs'])"
      ],
      "execution_count": null,
      "outputs": []
    },
    {
      "cell_type": "code",
      "metadata": {
        "colab": {
          "base_uri": "https://localhost:8080/"
        },
        "id": "r-sDKKjOXJ6V",
        "outputId": "2b9779c5-ed34-453f-baec-9958669b851d"
      },
      "source": [
        "train_x.columns"
      ],
      "execution_count": null,
      "outputs": [
        {
          "output_type": "execute_result",
          "data": {
            "text/plain": [
              "Index(['venue', 'innings', 'batting_team', 'bowling_team', 'batsmen_0',\n",
              "       'batsmen_1', 'batsmen_2', 'batsmen_3', 'batsmen_4', 'batsmen_5',\n",
              "       'batsmen_6', 'batsmen_7', 'batsmen_8', 'batsmen_9', 'batsmen_10',\n",
              "       'batsmen_11', 'batsmen_12', 'bowlers_0', 'bowlers_1', 'bowlers_2',\n",
              "       'bowlers_3', 'bowlers_4', 'bowlers_5', 'bowlers_6', 'bowlers_7',\n",
              "       'bowlers_8', 'bowlers_9'],\n",
              "      dtype='object')"
            ]
          },
          "metadata": {
            "tags": []
          },
          "execution_count": 94
        }
      ]
    },
    {
      "cell_type": "code",
      "metadata": {
        "colab": {
          "base_uri": "https://localhost:8080/"
        },
        "id": "zPrYjeIeriMy",
        "outputId": "b7770db7-105e-4261-8be7-8f32b1e36980"
      },
      "source": [
        "train_x.shape"
      ],
      "execution_count": null,
      "outputs": [
        {
          "output_type": "execute_result",
          "data": {
            "text/plain": [
              "(819, 27)"
            ]
          },
          "metadata": {
            "tags": []
          },
          "execution_count": 95
        }
      ]
    },
    {
      "cell_type": "code",
      "metadata": {
        "id": "3WnnDF7KlGAG"
      },
      "source": [
        "from sklearn.model_selection import train_test_split\n",
        "\n",
        "x_train, x_test, y_train, y_test = train_test_split(train_x, train_y, test_size=0.05, random_state=42)"
      ],
      "execution_count": null,
      "outputs": []
    },
    {
      "cell_type": "code",
      "metadata": {
        "id": "eZDcpHmIlm4S"
      },
      "source": [
        "from sklearn.preprocessing import StandardScaler\n",
        "from sklearn.preprocessing import MinMaxScaler\n",
        "\n",
        "sc = StandardScaler()\n",
        "x_train = sc.fit_transform(x_train)\n",
        "x_test = sc.transform(x_test)\n",
        "\n",
        "target_scaler = MinMaxScaler()\n",
        "y_train = y_train.values.reshape(-1, 1)\n",
        "y_test = y_test.values.reshape(-1, 1)\n",
        "target_scaler.fit(y_train)\n",
        "\n",
        "y_train = target_scaler.transform(y_train)\n",
        "y_test = target_scaler.transform(y_test)\n"
      ],
      "execution_count": null,
      "outputs": []
    },
    {
      "cell_type": "code",
      "metadata": {
        "id": "FwywpbQcZRf7"
      },
      "source": [
        "from pickle import dump\n",
        "\n",
        "dump(sc, open('scaler.pkl', 'wb'))\n",
        "dump(target_scaler, open('target_scaler.pkl', 'wb'))"
      ],
      "execution_count": null,
      "outputs": []
    },
    {
      "cell_type": "code",
      "metadata": {
        "id": "IVi52H4vkdWF"
      },
      "source": [
        "import pandas\n",
        "from keras.models import Sequential\n",
        "from keras.layers import Dense\n",
        "from keras.wrappers.scikit_learn import KerasRegressor\n",
        "from sklearn.model_selection import cross_val_score\n",
        "from sklearn.model_selection import KFold\n",
        "from sklearn.preprocessing import StandardScaler\n",
        "from sklearn.pipeline import Pipeline\n",
        "import tensorflow as tf\n"
      ],
      "execution_count": null,
      "outputs": []
    },
    {
      "cell_type": "code",
      "metadata": {
        "id": "iDn4ZSJZkpkQ"
      },
      "source": [
        "# Initialising the ANN\n",
        "model = Sequential()\n",
        "\n",
        "# Adding the input layer and the first hidden layer\n",
        "model.add(Dense(32, activation = 'relu', input_dim = 27))\n",
        "\n",
        "# Adding the second hidden layer\n",
        "model.add(Dense(units = 32, activation = 'relu'))\n",
        "\n",
        "# Adding the third hidden layer\n",
        "model.add(Dense(units = 32, activation = 'relu'))\n",
        "\n",
        "# Adding the output layer\n",
        "model.add(Dense(units = 1))"
      ],
      "execution_count": null,
      "outputs": []
    },
    {
      "cell_type": "code",
      "metadata": {
        "id": "QA9WRsb9ktUC"
      },
      "source": [
        "model.compile(optimizer = 'adam',loss = 'mean_squared_error')\n"
      ],
      "execution_count": null,
      "outputs": []
    },
    {
      "cell_type": "code",
      "metadata": {
        "colab": {
          "base_uri": "https://localhost:8080/"
        },
        "id": "NdVJEFbtlySx",
        "outputId": "2b218b34-4e98-49b4-d058-27f2ecd07a62"
      },
      "source": [
        "model.fit(x_test, y_test, batch_size = 10, epochs = 100)\n"
      ],
      "execution_count": null,
      "outputs": [
        {
          "output_type": "stream",
          "text": [
            "Epoch 1/100\n",
            "5/5 [==============================] - 0s 3ms/step - loss: 0.3448\n",
            "Epoch 2/100\n",
            "5/5 [==============================] - 0s 3ms/step - loss: 0.1566\n",
            "Epoch 3/100\n",
            "5/5 [==============================] - 0s 3ms/step - loss: 0.0967\n",
            "Epoch 4/100\n",
            "5/5 [==============================] - 0s 2ms/step - loss: 0.0560\n",
            "Epoch 5/100\n",
            "5/5 [==============================] - 0s 3ms/step - loss: 0.0417\n",
            "Epoch 6/100\n",
            "5/5 [==============================] - 0s 3ms/step - loss: 0.0344\n",
            "Epoch 7/100\n",
            "5/5 [==============================] - 0s 2ms/step - loss: 0.0229\n",
            "Epoch 8/100\n",
            "5/5 [==============================] - 0s 3ms/step - loss: 0.0167\n",
            "Epoch 9/100\n",
            "5/5 [==============================] - 0s 3ms/step - loss: 0.0148\n",
            "Epoch 10/100\n",
            "5/5 [==============================] - 0s 2ms/step - loss: 0.0114\n",
            "Epoch 11/100\n",
            "5/5 [==============================] - 0s 2ms/step - loss: 0.0078\n",
            "Epoch 12/100\n",
            "5/5 [==============================] - 0s 2ms/step - loss: 0.0083\n",
            "Epoch 13/100\n",
            "5/5 [==============================] - 0s 3ms/step - loss: 0.0062\n",
            "Epoch 14/100\n",
            "5/5 [==============================] - 0s 2ms/step - loss: 0.0066\n",
            "Epoch 15/100\n",
            "5/5 [==============================] - 0s 2ms/step - loss: 0.0052\n",
            "Epoch 16/100\n",
            "5/5 [==============================] - 0s 2ms/step - loss: 0.0044\n",
            "Epoch 17/100\n",
            "5/5 [==============================] - 0s 3ms/step - loss: 0.0039\n",
            "Epoch 18/100\n",
            "5/5 [==============================] - 0s 3ms/step - loss: 0.0031\n",
            "Epoch 19/100\n",
            "5/5 [==============================] - 0s 3ms/step - loss: 0.0033\n",
            "Epoch 20/100\n",
            "5/5 [==============================] - 0s 3ms/step - loss: 0.0020\n",
            "Epoch 21/100\n",
            "5/5 [==============================] - 0s 2ms/step - loss: 0.0018\n",
            "Epoch 22/100\n",
            "5/5 [==============================] - 0s 4ms/step - loss: 0.0016\n",
            "Epoch 23/100\n",
            "5/5 [==============================] - 0s 3ms/step - loss: 0.0018\n",
            "Epoch 24/100\n",
            "5/5 [==============================] - 0s 2ms/step - loss: 0.0013\n",
            "Epoch 25/100\n",
            "5/5 [==============================] - 0s 2ms/step - loss: 0.0017\n",
            "Epoch 26/100\n",
            "5/5 [==============================] - 0s 4ms/step - loss: 0.0014\n",
            "Epoch 27/100\n",
            "5/5 [==============================] - 0s 3ms/step - loss: 9.7685e-04\n",
            "Epoch 28/100\n",
            "5/5 [==============================] - 0s 3ms/step - loss: 8.2819e-04\n",
            "Epoch 29/100\n",
            "5/5 [==============================] - 0s 3ms/step - loss: 6.2078e-04\n",
            "Epoch 30/100\n",
            "5/5 [==============================] - 0s 3ms/step - loss: 8.0311e-04\n",
            "Epoch 31/100\n",
            "5/5 [==============================] - 0s 3ms/step - loss: 4.9390e-04\n",
            "Epoch 32/100\n",
            "5/5 [==============================] - 0s 2ms/step - loss: 5.1698e-04\n",
            "Epoch 33/100\n",
            "5/5 [==============================] - 0s 3ms/step - loss: 5.6834e-04\n",
            "Epoch 34/100\n",
            "5/5 [==============================] - 0s 2ms/step - loss: 3.7031e-04\n",
            "Epoch 35/100\n",
            "5/5 [==============================] - 0s 2ms/step - loss: 4.2602e-04\n",
            "Epoch 36/100\n",
            "5/5 [==============================] - 0s 2ms/step - loss: 2.5400e-04\n",
            "Epoch 37/100\n",
            "5/5 [==============================] - 0s 2ms/step - loss: 2.2286e-04\n",
            "Epoch 38/100\n",
            "5/5 [==============================] - 0s 3ms/step - loss: 2.5867e-04\n",
            "Epoch 39/100\n",
            "5/5 [==============================] - 0s 4ms/step - loss: 1.3731e-04\n",
            "Epoch 40/100\n",
            "5/5 [==============================] - 0s 3ms/step - loss: 1.8888e-04\n",
            "Epoch 41/100\n",
            "5/5 [==============================] - 0s 3ms/step - loss: 1.7054e-04\n",
            "Epoch 42/100\n",
            "5/5 [==============================] - 0s 3ms/step - loss: 1.3186e-04\n",
            "Epoch 43/100\n",
            "5/5 [==============================] - 0s 3ms/step - loss: 8.5086e-05\n",
            "Epoch 44/100\n",
            "5/5 [==============================] - 0s 3ms/step - loss: 8.0463e-05\n",
            "Epoch 45/100\n",
            "5/5 [==============================] - 0s 2ms/step - loss: 6.4073e-05\n",
            "Epoch 46/100\n",
            "5/5 [==============================] - 0s 3ms/step - loss: 5.5036e-05\n",
            "Epoch 47/100\n",
            "5/5 [==============================] - 0s 3ms/step - loss: 6.5604e-05\n",
            "Epoch 48/100\n",
            "5/5 [==============================] - 0s 3ms/step - loss: 5.1378e-05\n",
            "Epoch 49/100\n",
            "5/5 [==============================] - 0s 3ms/step - loss: 5.2355e-05\n",
            "Epoch 50/100\n",
            "5/5 [==============================] - 0s 3ms/step - loss: 3.1638e-05\n",
            "Epoch 51/100\n",
            "5/5 [==============================] - 0s 2ms/step - loss: 2.7622e-05\n",
            "Epoch 52/100\n",
            "5/5 [==============================] - 0s 2ms/step - loss: 2.9045e-05\n",
            "Epoch 53/100\n",
            "5/5 [==============================] - 0s 2ms/step - loss: 1.8733e-05\n",
            "Epoch 54/100\n",
            "5/5 [==============================] - 0s 3ms/step - loss: 1.6370e-05\n",
            "Epoch 55/100\n",
            "5/5 [==============================] - 0s 3ms/step - loss: 1.4374e-05\n",
            "Epoch 56/100\n",
            "5/5 [==============================] - 0s 3ms/step - loss: 1.4770e-05\n",
            "Epoch 57/100\n",
            "5/5 [==============================] - 0s 4ms/step - loss: 1.0655e-05\n",
            "Epoch 58/100\n",
            "5/5 [==============================] - 0s 3ms/step - loss: 1.1255e-05\n",
            "Epoch 59/100\n",
            "5/5 [==============================] - 0s 3ms/step - loss: 6.7296e-06\n",
            "Epoch 60/100\n",
            "5/5 [==============================] - 0s 3ms/step - loss: 5.5115e-06\n",
            "Epoch 61/100\n",
            "5/5 [==============================] - 0s 3ms/step - loss: 5.4191e-06\n",
            "Epoch 62/100\n",
            "5/5 [==============================] - 0s 3ms/step - loss: 5.3163e-06\n",
            "Epoch 63/100\n",
            "5/5 [==============================] - 0s 3ms/step - loss: 3.9303e-06\n",
            "Epoch 64/100\n",
            "5/5 [==============================] - 0s 2ms/step - loss: 4.2956e-06\n",
            "Epoch 65/100\n",
            "5/5 [==============================] - 0s 2ms/step - loss: 3.8270e-06\n",
            "Epoch 66/100\n",
            "5/5 [==============================] - 0s 2ms/step - loss: 2.2556e-06\n",
            "Epoch 67/100\n",
            "5/5 [==============================] - 0s 2ms/step - loss: 2.0392e-06\n",
            "Epoch 68/100\n",
            "5/5 [==============================] - 0s 4ms/step - loss: 1.9585e-06\n",
            "Epoch 69/100\n",
            "5/5 [==============================] - 0s 4ms/step - loss: 1.2002e-06\n",
            "Epoch 70/100\n",
            "5/5 [==============================] - 0s 3ms/step - loss: 1.0412e-06\n",
            "Epoch 71/100\n",
            "5/5 [==============================] - 0s 3ms/step - loss: 1.0855e-06\n",
            "Epoch 72/100\n",
            "5/5 [==============================] - 0s 3ms/step - loss: 1.0017e-06\n",
            "Epoch 73/100\n",
            "5/5 [==============================] - 0s 3ms/step - loss: 1.0102e-06\n",
            "Epoch 74/100\n",
            "5/5 [==============================] - 0s 3ms/step - loss: 7.5362e-07\n",
            "Epoch 75/100\n",
            "5/5 [==============================] - 0s 4ms/step - loss: 4.4865e-07\n",
            "Epoch 76/100\n",
            "5/5 [==============================] - 0s 3ms/step - loss: 5.0262e-07\n",
            "Epoch 77/100\n",
            "5/5 [==============================] - 0s 3ms/step - loss: 4.4778e-07\n",
            "Epoch 78/100\n",
            "5/5 [==============================] - 0s 4ms/step - loss: 3.8989e-07\n",
            "Epoch 79/100\n",
            "5/5 [==============================] - 0s 2ms/step - loss: 3.3880e-07\n",
            "Epoch 80/100\n",
            "5/5 [==============================] - 0s 3ms/step - loss: 1.9404e-07\n",
            "Epoch 81/100\n",
            "5/5 [==============================] - 0s 2ms/step - loss: 1.4936e-07\n",
            "Epoch 82/100\n",
            "5/5 [==============================] - 0s 2ms/step - loss: 1.7185e-07\n",
            "Epoch 83/100\n",
            "5/5 [==============================] - 0s 3ms/step - loss: 2.1959e-07\n",
            "Epoch 84/100\n",
            "5/5 [==============================] - 0s 3ms/step - loss: 1.7394e-07\n",
            "Epoch 85/100\n",
            "5/5 [==============================] - 0s 3ms/step - loss: 1.2065e-07\n",
            "Epoch 86/100\n",
            "5/5 [==============================] - 0s 3ms/step - loss: 7.5913e-08\n",
            "Epoch 87/100\n",
            "5/5 [==============================] - 0s 3ms/step - loss: 7.9312e-08\n",
            "Epoch 88/100\n",
            "5/5 [==============================] - 0s 3ms/step - loss: 6.0621e-08\n",
            "Epoch 89/100\n",
            "5/5 [==============================] - 0s 4ms/step - loss: 5.3166e-08\n",
            "Epoch 90/100\n",
            "5/5 [==============================] - 0s 3ms/step - loss: 5.6322e-08\n",
            "Epoch 91/100\n",
            "5/5 [==============================] - 0s 2ms/step - loss: 3.1526e-08\n",
            "Epoch 92/100\n",
            "5/5 [==============================] - 0s 2ms/step - loss: 2.2974e-08\n",
            "Epoch 93/100\n",
            "5/5 [==============================] - 0s 3ms/step - loss: 1.9038e-08\n",
            "Epoch 94/100\n",
            "5/5 [==============================] - 0s 4ms/step - loss: 1.2380e-08\n",
            "Epoch 95/100\n",
            "5/5 [==============================] - 0s 3ms/step - loss: 1.8491e-08\n",
            "Epoch 96/100\n",
            "5/5 [==============================] - 0s 3ms/step - loss: 9.1555e-09\n",
            "Epoch 97/100\n",
            "5/5 [==============================] - 0s 2ms/step - loss: 1.1437e-08\n",
            "Epoch 98/100\n",
            "5/5 [==============================] - 0s 3ms/step - loss: 1.0539e-08\n",
            "Epoch 99/100\n",
            "5/5 [==============================] - 0s 3ms/step - loss: 6.0474e-09\n",
            "Epoch 100/100\n",
            "5/5 [==============================] - 0s 3ms/step - loss: 7.3617e-09\n"
          ],
          "name": "stdout"
        },
        {
          "output_type": "execute_result",
          "data": {
            "text/plain": [
              "<tensorflow.python.keras.callbacks.History at 0x7f2862484490>"
            ]
          },
          "metadata": {
            "tags": []
          },
          "execution_count": 102
        }
      ]
    },
    {
      "cell_type": "code",
      "metadata": {
        "id": "7Z8gVNTMmgKp"
      },
      "source": [
        "y_pred = model.predict(x_test)"
      ],
      "execution_count": null,
      "outputs": []
    },
    {
      "cell_type": "code",
      "metadata": {
        "id": "lNjW5T2uH1xP",
        "colab": {
          "base_uri": "https://localhost:8080/"
        },
        "outputId": "bfa63c4b-fe6b-4ff9-ab9e-8e59c614634b"
      },
      "source": [
        "model.save(\"SequentialModel\")\n"
      ],
      "execution_count": null,
      "outputs": [
        {
          "output_type": "stream",
          "text": [
            "INFO:tensorflow:Assets written to: SequentialModel/assets\n"
          ],
          "name": "stdout"
        }
      ]
    },
    {
      "cell_type": "code",
      "metadata": {
        "id": "PgfmS3ma_bsu"
      },
      "source": [
        "y_test = target_scaler.inverse_transform(y_test)\n",
        "y_pred = target_scaler.inverse_transform(y_pred)\n"
      ],
      "execution_count": null,
      "outputs": []
    },
    {
      "cell_type": "code",
      "metadata": {
        "colab": {
          "base_uri": "https://localhost:8080/"
        },
        "id": "KqclHr8y_k_6",
        "outputId": "ff0baa97-9a19-4682-e99f-4ad1912f11bb"
      },
      "source": [
        "from sklearn.metrics import mean_squared_error\n",
        "errors = list()\n",
        "for i in range(len(y_test)):\n",
        "\terr = (y_test[i] - y_pred[i])**2\n",
        "\terrors.append(err)\n",
        "\tprint('%f, %f = %f' % (y_test[i], y_pred[i], err))\n"
      ],
      "execution_count": null,
      "outputs": [
        {
          "output_type": "stream",
          "text": [
            "111.000000, 111.002892 = 0.000008\n",
            "76.000000, 76.006226 = 0.000039\n",
            "60.000000, 60.040909 = 0.001674\n",
            "76.000000, 76.006775 = 0.000046\n",
            "112.000000, 112.005180 = 0.000027\n",
            "84.000000, 83.991356 = 0.000075\n",
            "128.000000, 127.997025 = 0.000009\n",
            "82.000000, 82.003792 = 0.000014\n",
            "91.000000, 91.007668 = 0.000059\n",
            "79.000000, 79.010727 = 0.000115\n",
            "93.000000, 92.994926 = 0.000026\n",
            "74.000000, 74.001518 = 0.000002\n",
            "94.000000, 94.045799 = 0.002098\n",
            "85.000000, 84.997765 = 0.000005\n",
            "85.000000, 84.999535 = 0.000000\n",
            "105.000000, 105.003815 = 0.000015\n",
            "82.000000, 82.015099 = 0.000228\n",
            "95.000000, 94.997765 = 0.000005\n",
            "73.000000, 73.000336 = 0.000000\n",
            "70.000000, 70.014122 = 0.000199\n",
            "120.000000, 120.001610 = 0.000003\n",
            "81.000000, 80.999977 = 0.000000\n",
            "82.000000, 82.005829 = 0.000034\n",
            "102.000000, 102.017769 = 0.000316\n",
            "83.000000, 83.013802 = 0.000190\n",
            "106.000000, 106.003220 = 0.000010\n",
            "115.000000, 115.008095 = 0.000066\n",
            "75.000000, 75.006630 = 0.000044\n",
            "110.000000, 109.991196 = 0.000078\n",
            "95.000000, 95.002289 = 0.000005\n",
            "90.000000, 90.009933 = 0.000099\n",
            "115.000000, 115.003891 = 0.000015\n",
            "121.000000, 120.993073 = 0.000048\n",
            "92.000000, 92.008873 = 0.000079\n",
            "138.000000, 138.004166 = 0.000017\n",
            "77.000000, 76.996582 = 0.000012\n",
            "84.000000, 83.998108 = 0.000004\n",
            "82.000000, 82.004990 = 0.000025\n",
            "145.000000, 144.995743 = 0.000018\n",
            "78.000000, 78.002670 = 0.000007\n",
            "98.000000, 98.007004 = 0.000049\n"
          ],
          "name": "stdout"
        }
      ]
    },
    {
      "cell_type": "code",
      "metadata": {
        "colab": {
          "base_uri": "https://localhost:8080/",
          "height": 281
        },
        "id": "qlx28o_Pmiva",
        "outputId": "542aa1da-0d26-40a6-aae0-647728b444c2"
      },
      "source": [
        "import matplotlib.pyplot as plt\n",
        "\n",
        "plt.plot(y_test, color = 'red', label = 'Real data')\n",
        "plt.plot(y_pred, color = 'blue', label = 'Predicted data')\n",
        "plt.title('Prediction')\n",
        "plt.legend()\n",
        "plt.show()"
      ],
      "execution_count": null,
      "outputs": [
        {
          "output_type": "display_data",
          "data": {
            "image/png": "[encoded data removed]",
            "text/plain": [
              "<Figure size 432x288 with 1 Axes>"
            ]
          },
          "metadata": {
            "tags": [],
            "needs_background": "light"
          }
        }
      ]
    },
    {
      "cell_type": "code",
      "metadata": {
        "colab": {
          "base_uri": "https://localhost:8080/",
          "height": 265
        },
        "id": "7n1Ybkf4DoNW",
        "outputId": "fcc00ced-b054-47cd-f133-314c3917bde8"
      },
      "source": [
        "plt.scatter(y_test, y_pred)\n",
        "plt.show()"
      ],
      "execution_count": null,
      "outputs": [
        {
          "output_type": "display_data",
          "data": {
            "image/png": "[encoded data removed]",
            "text/plain": [
              "<Figure size 432x288 with 1 Axes>"
            ]
          },
          "metadata": {
            "tags": [],
            "needs_background": "light"
          }
        }
      ]
    }
  ]
}